{
  "nbformat": 4,
  "nbformat_minor": 0,
  "metadata": {
    "colab": {
      "provenance": []
    },
    "kernelspec": {
      "name": "python3",
      "display_name": "Python 3"
    },
    "language_info": {
      "name": "python"
    }
  },
  "cells": [
    {
      "cell_type": "code",
      "execution_count": null,
      "metadata": {
        "id": "MilNckoqwcR9"
      },
      "outputs": [],
      "source": [
        "import pandas as pd\n",
        "from sklearn.model_selection import train_test_split\n",
        "from sklearn.preprocessing import LabelEncoder, MinMaxScaler\n",
        "from keras.models import Sequential\n",
        "from keras.layers import Dense"
      ]
    },
    {
      "cell_type": "code",
      "source": [
        "dataset = pd.read_csv(\"/content/Crop_recommendation.csv\")\n",
        "dataset.nunique()\n",
        "\n",
        "X = dataset.drop(columns=['label'])\n",
        "y = dataset['label']"
      ],
      "metadata": {
        "id": "D7tPSsC5xFb6"
      },
      "execution_count": null,
      "outputs": []
    },
    {
      "cell_type": "code",
      "source": [
        "dataset"
      ],
      "metadata": {
        "colab": {
          "base_uri": "https://localhost:8080/",
          "height": 423
        },
        "id": "m_pPGEY4lps0",
        "outputId": "2c4d4f37-bc8c-44a3-b9dc-bd385a920d51"
      },
      "execution_count": null,
      "outputs": [
        {
          "output_type": "execute_result",
          "data": {
            "text/plain": [
              "        N   P   K  temperature   humidity        ph    rainfall   label\n",
              "0      90  42  43    20.879744  82.002744  6.502985  202.935536    rice\n",
              "1      85  58  41    21.770462  80.319644  7.038096  226.655537    rice\n",
              "2      60  55  44    23.004459  82.320763  7.840207  263.964248    rice\n",
              "3      74  35  40    26.491096  80.158363  6.980401  242.864034    rice\n",
              "4      78  42  42    20.130175  81.604873  7.628473  262.717340    rice\n",
              "...   ...  ..  ..          ...        ...       ...         ...     ...\n",
              "2195  107  34  32    26.774637  66.413269  6.780064  177.774507  coffee\n",
              "2196   99  15  27    27.417112  56.636362  6.086922  127.924610  coffee\n",
              "2197  118  33  30    24.131797  67.225123  6.362608  173.322839  coffee\n",
              "2198  117  32  34    26.272418  52.127394  6.758793  127.175293  coffee\n",
              "2199  104  18  30    23.603016  60.396475  6.779833  140.937041  coffee\n",
              "\n",
              "[2200 rows x 8 columns]"
            ],
            "text/html": [
              "\n",
              "  <div id=\"df-22a4b8e4-ec96-475a-9024-ffdda4615e76\" class=\"colab-df-container\">\n",
              "    <div>\n",
              "<style scoped>\n",
              "    .dataframe tbody tr th:only-of-type {\n",
              "        vertical-align: middle;\n",
              "    }\n",
              "\n",
              "    .dataframe tbody tr th {\n",
              "        vertical-align: top;\n",
              "    }\n",
              "\n",
              "    .dataframe thead th {\n",
              "        text-align: right;\n",
              "    }\n",
              "</style>\n",
              "<table border=\"1\" class=\"dataframe\">\n",
              "  <thead>\n",
              "    <tr style=\"text-align: right;\">\n",
              "      <th></th>\n",
              "      <th>N</th>\n",
              "      <th>P</th>\n",
              "      <th>K</th>\n",
              "      <th>temperature</th>\n",
              "      <th>humidity</th>\n",
              "      <th>ph</th>\n",
              "      <th>rainfall</th>\n",
              "      <th>label</th>\n",
              "    </tr>\n",
              "  </thead>\n",
              "  <tbody>\n",
              "    <tr>\n",
              "      <th>0</th>\n",
              "      <td>90</td>\n",
              "      <td>42</td>\n",
              "      <td>43</td>\n",
              "      <td>20.879744</td>\n",
              "      <td>82.002744</td>\n",
              "      <td>6.502985</td>\n",
              "      <td>202.935536</td>\n",
              "      <td>rice</td>\n",
              "    </tr>\n",
              "    <tr>\n",
              "      <th>1</th>\n",
              "      <td>85</td>\n",
              "      <td>58</td>\n",
              "      <td>41</td>\n",
              "      <td>21.770462</td>\n",
              "      <td>80.319644</td>\n",
              "      <td>7.038096</td>\n",
              "      <td>226.655537</td>\n",
              "      <td>rice</td>\n",
              "    </tr>\n",
              "    <tr>\n",
              "      <th>2</th>\n",
              "      <td>60</td>\n",
              "      <td>55</td>\n",
              "      <td>44</td>\n",
              "      <td>23.004459</td>\n",
              "      <td>82.320763</td>\n",
              "      <td>7.840207</td>\n",
              "      <td>263.964248</td>\n",
              "      <td>rice</td>\n",
              "    </tr>\n",
              "    <tr>\n",
              "      <th>3</th>\n",
              "      <td>74</td>\n",
              "      <td>35</td>\n",
              "      <td>40</td>\n",
              "      <td>26.491096</td>\n",
              "      <td>80.158363</td>\n",
              "      <td>6.980401</td>\n",
              "      <td>242.864034</td>\n",
              "      <td>rice</td>\n",
              "    </tr>\n",
              "    <tr>\n",
              "      <th>4</th>\n",
              "      <td>78</td>\n",
              "      <td>42</td>\n",
              "      <td>42</td>\n",
              "      <td>20.130175</td>\n",
              "      <td>81.604873</td>\n",
              "      <td>7.628473</td>\n",
              "      <td>262.717340</td>\n",
              "      <td>rice</td>\n",
              "    </tr>\n",
              "    <tr>\n",
              "      <th>...</th>\n",
              "      <td>...</td>\n",
              "      <td>...</td>\n",
              "      <td>...</td>\n",
              "      <td>...</td>\n",
              "      <td>...</td>\n",
              "      <td>...</td>\n",
              "      <td>...</td>\n",
              "      <td>...</td>\n",
              "    </tr>\n",
              "    <tr>\n",
              "      <th>2195</th>\n",
              "      <td>107</td>\n",
              "      <td>34</td>\n",
              "      <td>32</td>\n",
              "      <td>26.774637</td>\n",
              "      <td>66.413269</td>\n",
              "      <td>6.780064</td>\n",
              "      <td>177.774507</td>\n",
              "      <td>coffee</td>\n",
              "    </tr>\n",
              "    <tr>\n",
              "      <th>2196</th>\n",
              "      <td>99</td>\n",
              "      <td>15</td>\n",
              "      <td>27</td>\n",
              "      <td>27.417112</td>\n",
              "      <td>56.636362</td>\n",
              "      <td>6.086922</td>\n",
              "      <td>127.924610</td>\n",
              "      <td>coffee</td>\n",
              "    </tr>\n",
              "    <tr>\n",
              "      <th>2197</th>\n",
              "      <td>118</td>\n",
              "      <td>33</td>\n",
              "      <td>30</td>\n",
              "      <td>24.131797</td>\n",
              "      <td>67.225123</td>\n",
              "      <td>6.362608</td>\n",
              "      <td>173.322839</td>\n",
              "      <td>coffee</td>\n",
              "    </tr>\n",
              "    <tr>\n",
              "      <th>2198</th>\n",
              "      <td>117</td>\n",
              "      <td>32</td>\n",
              "      <td>34</td>\n",
              "      <td>26.272418</td>\n",
              "      <td>52.127394</td>\n",
              "      <td>6.758793</td>\n",
              "      <td>127.175293</td>\n",
              "      <td>coffee</td>\n",
              "    </tr>\n",
              "    <tr>\n",
              "      <th>2199</th>\n",
              "      <td>104</td>\n",
              "      <td>18</td>\n",
              "      <td>30</td>\n",
              "      <td>23.603016</td>\n",
              "      <td>60.396475</td>\n",
              "      <td>6.779833</td>\n",
              "      <td>140.937041</td>\n",
              "      <td>coffee</td>\n",
              "    </tr>\n",
              "  </tbody>\n",
              "</table>\n",
              "<p>2200 rows × 8 columns</p>\n",
              "</div>\n",
              "    <div class=\"colab-df-buttons\">\n",
              "\n",
              "  <div class=\"colab-df-container\">\n",
              "    <button class=\"colab-df-convert\" onclick=\"convertToInteractive('df-22a4b8e4-ec96-475a-9024-ffdda4615e76')\"\n",
              "            title=\"Convert this dataframe to an interactive table.\"\n",
              "            style=\"display:none;\">\n",
              "\n",
              "  <svg xmlns=\"http://www.w3.org/2000/svg\" height=\"24px\" viewBox=\"0 -960 960 960\">\n",
              "    <path d=\"M120-120v-720h720v720H120Zm60-500h600v-160H180v160Zm220 220h160v-160H400v160Zm0 220h160v-160H400v160ZM180-400h160v-160H180v160Zm440 0h160v-160H620v160ZM180-180h160v-160H180v160Zm440 0h160v-160H620v160Z\"/>\n",
              "  </svg>\n",
              "    </button>\n",
              "\n",
              "  <style>\n",
              "    .colab-df-container {\n",
              "      display:flex;\n",
              "      gap: 12px;\n",
              "    }\n",
              "\n",
              "    .colab-df-convert {\n",
              "      background-color: #E8F0FE;\n",
              "      border: none;\n",
              "      border-radius: 50%;\n",
              "      cursor: pointer;\n",
              "      display: none;\n",
              "      fill: #1967D2;\n",
              "      height: 32px;\n",
              "      padding: 0 0 0 0;\n",
              "      width: 32px;\n",
              "    }\n",
              "\n",
              "    .colab-df-convert:hover {\n",
              "      background-color: #E2EBFA;\n",
              "      box-shadow: 0px 1px 2px rgba(60, 64, 67, 0.3), 0px 1px 3px 1px rgba(60, 64, 67, 0.15);\n",
              "      fill: #174EA6;\n",
              "    }\n",
              "\n",
              "    .colab-df-buttons div {\n",
              "      margin-bottom: 4px;\n",
              "    }\n",
              "\n",
              "    [theme=dark] .colab-df-convert {\n",
              "      background-color: #3B4455;\n",
              "      fill: #D2E3FC;\n",
              "    }\n",
              "\n",
              "    [theme=dark] .colab-df-convert:hover {\n",
              "      background-color: #434B5C;\n",
              "      box-shadow: 0px 1px 3px 1px rgba(0, 0, 0, 0.15);\n",
              "      filter: drop-shadow(0px 1px 2px rgba(0, 0, 0, 0.3));\n",
              "      fill: #FFFFFF;\n",
              "    }\n",
              "  </style>\n",
              "\n",
              "    <script>\n",
              "      const buttonEl =\n",
              "        document.querySelector('#df-22a4b8e4-ec96-475a-9024-ffdda4615e76 button.colab-df-convert');\n",
              "      buttonEl.style.display =\n",
              "        google.colab.kernel.accessAllowed ? 'block' : 'none';\n",
              "\n",
              "      async function convertToInteractive(key) {\n",
              "        const element = document.querySelector('#df-22a4b8e4-ec96-475a-9024-ffdda4615e76');\n",
              "        const dataTable =\n",
              "          await google.colab.kernel.invokeFunction('convertToInteractive',\n",
              "                                                    [key], {});\n",
              "        if (!dataTable) return;\n",
              "\n",
              "        const docLinkHtml = 'Like what you see? Visit the ' +\n",
              "          '<a target=\"_blank\" href=https://colab.research.google.com/notebooks/data_table.ipynb>data table notebook</a>'\n",
              "          + ' to learn more about interactive tables.';\n",
              "        element.innerHTML = '';\n",
              "        dataTable['output_type'] = 'display_data';\n",
              "        await google.colab.output.renderOutput(dataTable, element);\n",
              "        const docLink = document.createElement('div');\n",
              "        docLink.innerHTML = docLinkHtml;\n",
              "        element.appendChild(docLink);\n",
              "      }\n",
              "    </script>\n",
              "  </div>\n",
              "\n",
              "\n",
              "<div id=\"df-ae2a1c65-bbcb-49a1-b64d-a1647716acf7\">\n",
              "  <button class=\"colab-df-quickchart\" onclick=\"quickchart('df-ae2a1c65-bbcb-49a1-b64d-a1647716acf7')\"\n",
              "            title=\"Suggest charts\"\n",
              "            style=\"display:none;\">\n",
              "\n",
              "<svg xmlns=\"http://www.w3.org/2000/svg\" height=\"24px\"viewBox=\"0 0 24 24\"\n",
              "     width=\"24px\">\n",
              "    <g>\n",
              "        <path d=\"M19 3H5c-1.1 0-2 .9-2 2v14c0 1.1.9 2 2 2h14c1.1 0 2-.9 2-2V5c0-1.1-.9-2-2-2zM9 17H7v-7h2v7zm4 0h-2V7h2v10zm4 0h-2v-4h2v4z\"/>\n",
              "    </g>\n",
              "</svg>\n",
              "  </button>\n",
              "\n",
              "<style>\n",
              "  .colab-df-quickchart {\n",
              "      --bg-color: #E8F0FE;\n",
              "      --fill-color: #1967D2;\n",
              "      --hover-bg-color: #E2EBFA;\n",
              "      --hover-fill-color: #174EA6;\n",
              "      --disabled-fill-color: #AAA;\n",
              "      --disabled-bg-color: #DDD;\n",
              "  }\n",
              "\n",
              "  [theme=dark] .colab-df-quickchart {\n",
              "      --bg-color: #3B4455;\n",
              "      --fill-color: #D2E3FC;\n",
              "      --hover-bg-color: #434B5C;\n",
              "      --hover-fill-color: #FFFFFF;\n",
              "      --disabled-bg-color: #3B4455;\n",
              "      --disabled-fill-color: #666;\n",
              "  }\n",
              "\n",
              "  .colab-df-quickchart {\n",
              "    background-color: var(--bg-color);\n",
              "    border: none;\n",
              "    border-radius: 50%;\n",
              "    cursor: pointer;\n",
              "    display: none;\n",
              "    fill: var(--fill-color);\n",
              "    height: 32px;\n",
              "    padding: 0;\n",
              "    width: 32px;\n",
              "  }\n",
              "\n",
              "  .colab-df-quickchart:hover {\n",
              "    background-color: var(--hover-bg-color);\n",
              "    box-shadow: 0 1px 2px rgba(60, 64, 67, 0.3), 0 1px 3px 1px rgba(60, 64, 67, 0.15);\n",
              "    fill: var(--button-hover-fill-color);\n",
              "  }\n",
              "\n",
              "  .colab-df-quickchart-complete:disabled,\n",
              "  .colab-df-quickchart-complete:disabled:hover {\n",
              "    background-color: var(--disabled-bg-color);\n",
              "    fill: var(--disabled-fill-color);\n",
              "    box-shadow: none;\n",
              "  }\n",
              "\n",
              "  .colab-df-spinner {\n",
              "    border: 2px solid var(--fill-color);\n",
              "    border-color: transparent;\n",
              "    border-bottom-color: var(--fill-color);\n",
              "    animation:\n",
              "      spin 1s steps(1) infinite;\n",
              "  }\n",
              "\n",
              "  @keyframes spin {\n",
              "    0% {\n",
              "      border-color: transparent;\n",
              "      border-bottom-color: var(--fill-color);\n",
              "      border-left-color: var(--fill-color);\n",
              "    }\n",
              "    20% {\n",
              "      border-color: transparent;\n",
              "      border-left-color: var(--fill-color);\n",
              "      border-top-color: var(--fill-color);\n",
              "    }\n",
              "    30% {\n",
              "      border-color: transparent;\n",
              "      border-left-color: var(--fill-color);\n",
              "      border-top-color: var(--fill-color);\n",
              "      border-right-color: var(--fill-color);\n",
              "    }\n",
              "    40% {\n",
              "      border-color: transparent;\n",
              "      border-right-color: var(--fill-color);\n",
              "      border-top-color: var(--fill-color);\n",
              "    }\n",
              "    60% {\n",
              "      border-color: transparent;\n",
              "      border-right-color: var(--fill-color);\n",
              "    }\n",
              "    80% {\n",
              "      border-color: transparent;\n",
              "      border-right-color: var(--fill-color);\n",
              "      border-bottom-color: var(--fill-color);\n",
              "    }\n",
              "    90% {\n",
              "      border-color: transparent;\n",
              "      border-bottom-color: var(--fill-color);\n",
              "    }\n",
              "  }\n",
              "</style>\n",
              "\n",
              "  <script>\n",
              "    async function quickchart(key) {\n",
              "      const quickchartButtonEl =\n",
              "        document.querySelector('#' + key + ' button');\n",
              "      quickchartButtonEl.disabled = true;  // To prevent multiple clicks.\n",
              "      quickchartButtonEl.classList.add('colab-df-spinner');\n",
              "      try {\n",
              "        const charts = await google.colab.kernel.invokeFunction(\n",
              "            'suggestCharts', [key], {});\n",
              "      } catch (error) {\n",
              "        console.error('Error during call to suggestCharts:', error);\n",
              "      }\n",
              "      quickchartButtonEl.classList.remove('colab-df-spinner');\n",
              "      quickchartButtonEl.classList.add('colab-df-quickchart-complete');\n",
              "    }\n",
              "    (() => {\n",
              "      let quickchartButtonEl =\n",
              "        document.querySelector('#df-ae2a1c65-bbcb-49a1-b64d-a1647716acf7 button');\n",
              "      quickchartButtonEl.style.display =\n",
              "        google.colab.kernel.accessAllowed ? 'block' : 'none';\n",
              "    })();\n",
              "  </script>\n",
              "</div>\n",
              "    </div>\n",
              "  </div>\n"
            ],
            "application/vnd.google.colaboratory.intrinsic+json": {
              "type": "dataframe",
              "variable_name": "dataset",
              "summary": "{\n  \"name\": \"dataset\",\n  \"rows\": 2200,\n  \"fields\": [\n    {\n      \"column\": \"N\",\n      \"properties\": {\n        \"dtype\": \"number\",\n        \"std\": 36,\n        \"min\": 0,\n        \"max\": 140,\n        \"num_unique_values\": 137,\n        \"samples\": [\n          106,\n          101,\n          88\n        ],\n        \"semantic_type\": \"\",\n        \"description\": \"\"\n      }\n    },\n    {\n      \"column\": \"P\",\n      \"properties\": {\n        \"dtype\": \"number\",\n        \"std\": 32,\n        \"min\": 5,\n        \"max\": 145,\n        \"num_unique_values\": 117,\n        \"samples\": [\n          69,\n          37,\n          11\n        ],\n        \"semantic_type\": \"\",\n        \"description\": \"\"\n      }\n    },\n    {\n      \"column\": \"K\",\n      \"properties\": {\n        \"dtype\": \"number\",\n        \"std\": 50,\n        \"min\": 5,\n        \"max\": 205,\n        \"num_unique_values\": 73,\n        \"samples\": [\n          42,\n          12,\n          15\n        ],\n        \"semantic_type\": \"\",\n        \"description\": \"\"\n      }\n    },\n    {\n      \"column\": \"temperature\",\n      \"properties\": {\n        \"dtype\": \"number\",\n        \"std\": 5.063748599958843,\n        \"min\": 8.825674745,\n        \"max\": 43.67549305,\n        \"num_unique_values\": 2200,\n        \"samples\": [\n          29.49401389,\n          26.1793464,\n          43.36051537\n        ],\n        \"semantic_type\": \"\",\n        \"description\": \"\"\n      }\n    },\n    {\n      \"column\": \"humidity\",\n      \"properties\": {\n        \"dtype\": \"number\",\n        \"std\": 22.263811589761083,\n        \"min\": 14.25803981,\n        \"max\": 99.98187601,\n        \"num_unique_values\": 2200,\n        \"samples\": [\n          94.72981338,\n          86.52258079,\n          93.35191636\n        ],\n        \"semantic_type\": \"\",\n        \"description\": \"\"\n      }\n    },\n    {\n      \"column\": \"ph\",\n      \"properties\": {\n        \"dtype\": \"number\",\n        \"std\": 0.7739376880298733,\n        \"min\": 3.504752314,\n        \"max\": 9.93509073,\n        \"num_unique_values\": 2200,\n        \"samples\": [\n          6.185053234,\n          6.25933595,\n          6.941496806\n        ],\n        \"semantic_type\": \"\",\n        \"description\": \"\"\n      }\n    },\n    {\n      \"column\": \"rainfall\",\n      \"properties\": {\n        \"dtype\": \"number\",\n        \"std\": 54.95838852487813,\n        \"min\": 20.21126747,\n        \"max\": 298.5601175,\n        \"num_unique_values\": 2200,\n        \"samples\": [\n          26.30820876,\n          49.43050977,\n          114.778071\n        ],\n        \"semantic_type\": \"\",\n        \"description\": \"\"\n      }\n    },\n    {\n      \"column\": \"label\",\n      \"properties\": {\n        \"dtype\": \"category\",\n        \"num_unique_values\": 22,\n        \"samples\": [\n          \"rice\",\n          \"watermelon\",\n          \"lentil\"\n        ],\n        \"semantic_type\": \"\",\n        \"description\": \"\"\n      }\n    }\n  ]\n}"
            }
          },
          "metadata": {},
          "execution_count": 3
        }
      ]
    },
    {
      "cell_type": "code",
      "source": [
        "X = X.apply(lambda x: x.fillna(x.value_counts().index[0]))"
      ],
      "metadata": {
        "id": "bNExsMcl14ys"
      },
      "execution_count": null,
      "outputs": []
    },
    {
      "cell_type": "code",
      "source": [
        "from sklearn.model_selection import train_test_split\n",
        "from keras.callbacks import EarlyStopping\n",
        "\n",
        "# Splitting data into training and validation sets\n",
        "X_train, X_val, y_train, y_val = train_test_split(X, y, test_size=0.2, random_state=42)\n",
        "\n",
        "# Scale the features\n",
        "scaler = MinMaxScaler()  # Define your scaler object here\n",
        "X_train_scaled = scaler.fit_transform(X_train)\n",
        "X_val_scaled = scaler.transform(X_val)\n",
        "\n",
        "# Define early stopping callback\n",
        "early_stopping = EarlyStopping(monitor='val_loss', patience=10, restore_best_weights=True)\n",
        "\n",
        "\n"
      ],
      "metadata": {
        "id": "5Rp9gOlLsGSv"
      },
      "execution_count": null,
      "outputs": []
    },
    {
      "cell_type": "code",
      "source": [
        "# categorical_columns = ['Sowing Time', 'Region', 'Soil Type']\n",
        "# for column in categorical_columns:\n",
        "#     X[column] = LabelEncoder().fit_transform(X[column])"
      ],
      "metadata": {
        "id": "rpiJDdauxdDt"
      },
      "execution_count": null,
      "outputs": []
    },
    {
      "cell_type": "code",
      "source": [
        "# X = pd.get_dummies(X, columns=categorical_columns)"
      ],
      "metadata": {
        "id": "ltMxUBv3x1td"
      },
      "execution_count": null,
      "outputs": []
    },
    {
      "cell_type": "code",
      "source": [
        "X_train, X_test, y_train, y_test = train_test_split(X, y, test_size=0.2, random_state=42)"
      ],
      "metadata": {
        "id": "rCN-l6T2z3aM"
      },
      "execution_count": null,
      "outputs": []
    },
    {
      "cell_type": "code",
      "source": [
        "#encoding labels\n",
        "from sklearn.preprocessing import LabelEncoder\n",
        "\n",
        "label_encoder = LabelEncoder()\n",
        "y_train = label_encoder.fit_transform(y_train)"
      ],
      "metadata": {
        "id": "BZy2_94co8mc"
      },
      "execution_count": null,
      "outputs": []
    },
    {
      "cell_type": "code",
      "source": [
        "scaler = MinMaxScaler()\n",
        "X_train_scaled = scaler.fit_transform(X_train)\n",
        "X_test_scaled = scaler.transform(X_test)"
      ],
      "metadata": {
        "id": "dF_PkoDGz7mF"
      },
      "execution_count": null,
      "outputs": []
    },
    {
      "cell_type": "code",
      "source": [
        "model = Sequential()"
      ],
      "metadata": {
        "id": "Ov8GvEJH0H2z"
      },
      "execution_count": null,
      "outputs": []
    },
    {
      "cell_type": "code",
      "source": [
        "model.add(Dense(units=6, kernel_initializer='uniform', activation='relu', input_dim=X_train_scaled.shape[1]))"
      ],
      "metadata": {
        "id": "A1GOmXK00Kkt"
      },
      "execution_count": null,
      "outputs": []
    },
    {
      "cell_type": "code",
      "source": [
        "model.add(Dense(units=len(y.unique()), kernel_initializer='uniform', activation='softmax'))"
      ],
      "metadata": {
        "id": "khRS-YtA0Ubt"
      },
      "execution_count": null,
      "outputs": []
    },
    {
      "cell_type": "code",
      "source": [
        "model.compile(optimizer='adam', loss='sparse_categorical_crossentropy', metrics=['accuracy'])\n"
      ],
      "metadata": {
        "id": "bLcHjkQz0xoA"
      },
      "execution_count": null,
      "outputs": []
    },
    {
      "cell_type": "code",
      "source": [
        "model.fit(X_train_scaled, y_train, batch_size=5, epochs=100)"
      ],
      "metadata": {
        "id": "A0Hs586b02Tg",
        "colab": {
          "base_uri": "https://localhost:8080/"
        },
        "outputId": "ef59c94a-3a20-4072-e7f8-e62735093a8d"
      },
      "execution_count": null,
      "outputs": [
        {
          "output_type": "stream",
          "name": "stdout",
          "text": [
            "Epoch 1/100\n",
            "352/352 [==============================] - 2s 3ms/step - loss: 3.0644 - accuracy: 0.0858\n",
            "Epoch 2/100\n",
            "352/352 [==============================] - 2s 5ms/step - loss: 2.8905 - accuracy: 0.1801\n",
            "Epoch 3/100\n",
            "352/352 [==============================] - 2s 5ms/step - loss: 2.6306 - accuracy: 0.3267\n",
            "Epoch 4/100\n",
            "352/352 [==============================] - 1s 4ms/step - loss: 2.3793 - accuracy: 0.4233\n",
            "Epoch 5/100\n",
            "352/352 [==============================] - 1s 3ms/step - loss: 2.1544 - accuracy: 0.5097\n",
            "Epoch 6/100\n",
            "352/352 [==============================] - 1s 3ms/step - loss: 1.9580 - accuracy: 0.5847\n",
            "Epoch 7/100\n",
            "352/352 [==============================] - 1s 3ms/step - loss: 1.7907 - accuracy: 0.6409\n",
            "Epoch 8/100\n",
            "352/352 [==============================] - 1s 3ms/step - loss: 1.6498 - accuracy: 0.6426\n",
            "Epoch 9/100\n",
            "352/352 [==============================] - 1s 3ms/step - loss: 1.5290 - accuracy: 0.6960\n",
            "Epoch 10/100\n",
            "352/352 [==============================] - 1s 3ms/step - loss: 1.4238 - accuracy: 0.7080\n",
            "Epoch 11/100\n",
            "352/352 [==============================] - 1s 3ms/step - loss: 1.3346 - accuracy: 0.7307\n",
            "Epoch 12/100\n",
            "352/352 [==============================] - 1s 4ms/step - loss: 1.2568 - accuracy: 0.7761\n",
            "Epoch 13/100\n",
            "352/352 [==============================] - 1s 4ms/step - loss: 1.1879 - accuracy: 0.7676\n",
            "Epoch 14/100\n",
            "352/352 [==============================] - 2s 5ms/step - loss: 1.1287 - accuracy: 0.7926\n",
            "Epoch 15/100\n",
            "352/352 [==============================] - 1s 4ms/step - loss: 1.0741 - accuracy: 0.8085\n",
            "Epoch 16/100\n",
            "352/352 [==============================] - 1s 4ms/step - loss: 1.0270 - accuracy: 0.8148\n",
            "Epoch 17/100\n",
            "352/352 [==============================] - 1s 3ms/step - loss: 0.9832 - accuracy: 0.8267\n",
            "Epoch 18/100\n",
            "352/352 [==============================] - 1s 2ms/step - loss: 0.9434 - accuracy: 0.8301\n",
            "Epoch 19/100\n",
            "352/352 [==============================] - 1s 4ms/step - loss: 0.9077 - accuracy: 0.8432\n",
            "Epoch 20/100\n",
            "352/352 [==============================] - 1s 3ms/step - loss: 0.8740 - accuracy: 0.8318\n",
            "Epoch 21/100\n",
            "352/352 [==============================] - 1s 3ms/step - loss: 0.8433 - accuracy: 0.8420\n",
            "Epoch 22/100\n",
            "352/352 [==============================] - 1s 3ms/step - loss: 0.8154 - accuracy: 0.8506\n",
            "Epoch 23/100\n",
            "352/352 [==============================] - 1s 4ms/step - loss: 0.7884 - accuracy: 0.8506\n",
            "Epoch 24/100\n",
            "352/352 [==============================] - 1s 3ms/step - loss: 0.7658 - accuracy: 0.8506\n",
            "Epoch 25/100\n",
            "352/352 [==============================] - 1s 4ms/step - loss: 0.7427 - accuracy: 0.8557\n",
            "Epoch 26/100\n",
            "352/352 [==============================] - 1s 3ms/step - loss: 0.7212 - accuracy: 0.8602\n",
            "Epoch 27/100\n",
            "352/352 [==============================] - 1s 2ms/step - loss: 0.7012 - accuracy: 0.8625\n",
            "Epoch 28/100\n",
            "352/352 [==============================] - 1s 2ms/step - loss: 0.6847 - accuracy: 0.8602\n",
            "Epoch 29/100\n",
            "352/352 [==============================] - 1s 2ms/step - loss: 0.6657 - accuracy: 0.8682\n",
            "Epoch 30/100\n",
            "352/352 [==============================] - 1s 2ms/step - loss: 0.6511 - accuracy: 0.8693\n",
            "Epoch 31/100\n",
            "352/352 [==============================] - 1s 1ms/step - loss: 0.6349 - accuracy: 0.8716\n",
            "Epoch 32/100\n",
            "352/352 [==============================] - 1s 2ms/step - loss: 0.6213 - accuracy: 0.8710\n",
            "Epoch 33/100\n",
            "352/352 [==============================] - 1s 1ms/step - loss: 0.6072 - accuracy: 0.8710\n",
            "Epoch 34/100\n",
            "352/352 [==============================] - 1s 1ms/step - loss: 0.5944 - accuracy: 0.8778\n",
            "Epoch 35/100\n",
            "352/352 [==============================] - 1s 1ms/step - loss: 0.5825 - accuracy: 0.8773\n",
            "Epoch 36/100\n",
            "352/352 [==============================] - 1s 1ms/step - loss: 0.5718 - accuracy: 0.8761\n",
            "Epoch 37/100\n",
            "352/352 [==============================] - 1s 1ms/step - loss: 0.5597 - accuracy: 0.8773\n",
            "Epoch 38/100\n",
            "352/352 [==============================] - 1s 2ms/step - loss: 0.5500 - accuracy: 0.8824\n",
            "Epoch 39/100\n",
            "352/352 [==============================] - 1s 2ms/step - loss: 0.5408 - accuracy: 0.8847\n",
            "Epoch 40/100\n",
            "352/352 [==============================] - 1s 1ms/step - loss: 0.5291 - accuracy: 0.8818\n",
            "Epoch 41/100\n",
            "352/352 [==============================] - 1s 1ms/step - loss: 0.5224 - accuracy: 0.8830\n",
            "Epoch 42/100\n",
            "352/352 [==============================] - 1s 1ms/step - loss: 0.5130 - accuracy: 0.8847\n",
            "Epoch 43/100\n",
            "352/352 [==============================] - 1s 1ms/step - loss: 0.5052 - accuracy: 0.8864\n",
            "Epoch 44/100\n",
            "352/352 [==============================] - 1s 1ms/step - loss: 0.4967 - accuracy: 0.8903\n",
            "Epoch 45/100\n",
            "352/352 [==============================] - 1s 2ms/step - loss: 0.4889 - accuracy: 0.8858\n",
            "Epoch 46/100\n",
            "352/352 [==============================] - 1s 1ms/step - loss: 0.4822 - accuracy: 0.8915\n",
            "Epoch 47/100\n",
            "352/352 [==============================] - 1s 2ms/step - loss: 0.4749 - accuracy: 0.8892\n",
            "Epoch 48/100\n",
            "352/352 [==============================] - 1s 2ms/step - loss: 0.4678 - accuracy: 0.8938\n",
            "Epoch 49/100\n",
            "352/352 [==============================] - 1s 2ms/step - loss: 0.4610 - accuracy: 0.8909\n",
            "Epoch 50/100\n",
            "352/352 [==============================] - 1s 2ms/step - loss: 0.4560 - accuracy: 0.8932\n",
            "Epoch 51/100\n",
            "352/352 [==============================] - 1s 2ms/step - loss: 0.4498 - accuracy: 0.8932\n",
            "Epoch 52/100\n",
            "352/352 [==============================] - 1s 2ms/step - loss: 0.4439 - accuracy: 0.8977\n",
            "Epoch 53/100\n",
            "352/352 [==============================] - 1s 2ms/step - loss: 0.4372 - accuracy: 0.8972\n",
            "Epoch 54/100\n",
            "352/352 [==============================] - 1s 2ms/step - loss: 0.4320 - accuracy: 0.8920\n",
            "Epoch 55/100\n",
            "352/352 [==============================] - 1s 1ms/step - loss: 0.4268 - accuracy: 0.8977\n",
            "Epoch 56/100\n",
            "352/352 [==============================] - 1s 1ms/step - loss: 0.4216 - accuracy: 0.8983\n",
            "Epoch 57/100\n",
            "352/352 [==============================] - 1s 1ms/step - loss: 0.4179 - accuracy: 0.8966\n",
            "Epoch 58/100\n",
            "352/352 [==============================] - 1s 1ms/step - loss: 0.4113 - accuracy: 0.9011\n",
            "Epoch 59/100\n",
            "352/352 [==============================] - 1s 1ms/step - loss: 0.4065 - accuracy: 0.8994\n",
            "Epoch 60/100\n",
            "352/352 [==============================] - 1s 1ms/step - loss: 0.4020 - accuracy: 0.9006\n",
            "Epoch 61/100\n",
            "352/352 [==============================] - 1s 1ms/step - loss: 0.3966 - accuracy: 0.9000\n",
            "Epoch 62/100\n",
            "352/352 [==============================] - 1s 1ms/step - loss: 0.3922 - accuracy: 0.9057\n",
            "Epoch 63/100\n",
            "352/352 [==============================] - 1s 1ms/step - loss: 0.3881 - accuracy: 0.9051\n",
            "Epoch 64/100\n",
            "352/352 [==============================] - 1s 1ms/step - loss: 0.3832 - accuracy: 0.9040\n",
            "Epoch 65/100\n",
            "352/352 [==============================] - 1s 1ms/step - loss: 0.3800 - accuracy: 0.9114\n",
            "Epoch 66/100\n",
            "352/352 [==============================] - 1s 1ms/step - loss: 0.3752 - accuracy: 0.9023\n",
            "Epoch 67/100\n",
            "352/352 [==============================] - 1s 1ms/step - loss: 0.3710 - accuracy: 0.9102\n",
            "Epoch 68/100\n",
            "352/352 [==============================] - 1s 2ms/step - loss: 0.3667 - accuracy: 0.9097\n",
            "Epoch 69/100\n",
            "352/352 [==============================] - 1s 1ms/step - loss: 0.3651 - accuracy: 0.9108\n",
            "Epoch 70/100\n",
            "352/352 [==============================] - 1s 1ms/step - loss: 0.3592 - accuracy: 0.9097\n",
            "Epoch 71/100\n",
            "352/352 [==============================] - 1s 2ms/step - loss: 0.3566 - accuracy: 0.9119\n",
            "Epoch 72/100\n",
            "352/352 [==============================] - 1s 2ms/step - loss: 0.3524 - accuracy: 0.9131\n",
            "Epoch 73/100\n",
            "352/352 [==============================] - 1s 2ms/step - loss: 0.3491 - accuracy: 0.9131\n",
            "Epoch 74/100\n",
            "352/352 [==============================] - 1s 2ms/step - loss: 0.3462 - accuracy: 0.9131\n",
            "Epoch 75/100\n",
            "352/352 [==============================] - 1s 2ms/step - loss: 0.3422 - accuracy: 0.9136\n",
            "Epoch 76/100\n",
            "352/352 [==============================] - 1s 2ms/step - loss: 0.3388 - accuracy: 0.9176\n",
            "Epoch 77/100\n",
            "352/352 [==============================] - 1s 2ms/step - loss: 0.3367 - accuracy: 0.9131\n",
            "Epoch 78/100\n",
            "352/352 [==============================] - 1s 2ms/step - loss: 0.3323 - accuracy: 0.9148\n",
            "Epoch 79/100\n",
            "352/352 [==============================] - 1s 1ms/step - loss: 0.3284 - accuracy: 0.9165\n",
            "Epoch 80/100\n",
            "352/352 [==============================] - 1s 2ms/step - loss: 0.3260 - accuracy: 0.9170\n",
            "Epoch 81/100\n",
            "352/352 [==============================] - 1s 2ms/step - loss: 0.3232 - accuracy: 0.9193\n",
            "Epoch 82/100\n",
            "352/352 [==============================] - 1s 3ms/step - loss: 0.3191 - accuracy: 0.9193\n",
            "Epoch 83/100\n",
            "352/352 [==============================] - 1s 2ms/step - loss: 0.3165 - accuracy: 0.9216\n",
            "Epoch 84/100\n",
            "352/352 [==============================] - 1s 1ms/step - loss: 0.3145 - accuracy: 0.9193\n",
            "Epoch 85/100\n",
            "352/352 [==============================] - 1s 3ms/step - loss: 0.3102 - accuracy: 0.9222\n",
            "Epoch 86/100\n",
            "352/352 [==============================] - 1s 3ms/step - loss: 0.3067 - accuracy: 0.9267\n",
            "Epoch 87/100\n",
            "352/352 [==============================] - 1s 3ms/step - loss: 0.3046 - accuracy: 0.9227\n",
            "Epoch 88/100\n",
            "352/352 [==============================] - 1s 3ms/step - loss: 0.3022 - accuracy: 0.9244\n",
            "Epoch 89/100\n",
            "352/352 [==============================] - 1s 4ms/step - loss: 0.2983 - accuracy: 0.9256\n",
            "Epoch 90/100\n",
            "352/352 [==============================] - 2s 4ms/step - loss: 0.2962 - accuracy: 0.9284\n",
            "Epoch 91/100\n",
            "352/352 [==============================] - 2s 4ms/step - loss: 0.2923 - accuracy: 0.9267\n",
            "Epoch 92/100\n",
            "352/352 [==============================] - 1s 4ms/step - loss: 0.2911 - accuracy: 0.9239\n",
            "Epoch 93/100\n",
            "352/352 [==============================] - 1s 3ms/step - loss: 0.2883 - accuracy: 0.9261\n",
            "Epoch 94/100\n",
            "352/352 [==============================] - 1s 3ms/step - loss: 0.2853 - accuracy: 0.9244\n",
            "Epoch 95/100\n",
            "352/352 [==============================] - 1s 2ms/step - loss: 0.2821 - accuracy: 0.9312\n",
            "Epoch 96/100\n",
            "352/352 [==============================] - 1s 3ms/step - loss: 0.2795 - accuracy: 0.9278\n",
            "Epoch 97/100\n",
            "352/352 [==============================] - 1s 2ms/step - loss: 0.2771 - accuracy: 0.9267\n",
            "Epoch 98/100\n",
            "352/352 [==============================] - 1s 1ms/step - loss: 0.2739 - accuracy: 0.9261\n",
            "Epoch 99/100\n",
            "352/352 [==============================] - 1s 2ms/step - loss: 0.2714 - accuracy: 0.9278\n",
            "Epoch 100/100\n",
            "352/352 [==============================] - 1s 1ms/step - loss: 0.2688 - accuracy: 0.9341\n"
          ]
        },
        {
          "output_type": "execute_result",
          "data": {
            "text/plain": [
              "<keras.src.callbacks.History at 0x7dd34e742860>"
            ]
          },
          "metadata": {},
          "execution_count": 15
        }
      ]
    },
    {
      "cell_type": "code",
      "source": [
        "# from tensorflow.keras.callbacks import EarlyStopping\n",
        "\n",
        "# early_stopping = EarlyStopping(monitor='val_loss', patience=10, restore_best_weights=True)\n",
        "\n",
        "# # # Train the model with early stopping\n",
        "# model.fit(X_train_scaled, y_train, batch_size=10, epochs=150, validation_data=(X_val_scaled, y_val), callbacks=[early_stopping])\n"
      ],
      "metadata": {
        "id": "RGxK0RmkuclZ"
      },
      "execution_count": null,
      "outputs": []
    },
    {
      "cell_type": "code",
      "source": [
        "y_pred = model.predict(X_test_scaled)"
      ],
      "metadata": {
        "id": "smZ5n6G-6TOS",
        "colab": {
          "base_uri": "https://localhost:8080/"
        },
        "outputId": "932081d7-ccf9-4e91-ff86-8d6d73461c56"
      },
      "execution_count": null,
      "outputs": [
        {
          "output_type": "stream",
          "name": "stdout",
          "text": [
            "14/14 [==============================] - 0s 2ms/step\n"
          ]
        }
      ]
    },
    {
      "cell_type": "code",
      "source": [
        "from sklearn.metrics import accuracy_score"
      ],
      "metadata": {
        "id": "WyaqHHeE74Sz"
      },
      "execution_count": null,
      "outputs": []
    },
    {
      "cell_type": "code",
      "source": [
        "y_test_encoded = label_encoder.transform(y_test)"
      ],
      "metadata": {
        "id": "kqRA6fNM777a"
      },
      "execution_count": null,
      "outputs": []
    },
    {
      "cell_type": "code",
      "source": [
        "# Predict classes for X_test_scaled\n",
        "y_pred_classes = model.predict(X_test_scaled)\n",
        "# Convert probabilities to class labels\n",
        "y_pred_classes = y_pred_classes.argmax(axis=-1)"
      ],
      "metadata": {
        "id": "Pvzo856a7_ZA",
        "colab": {
          "base_uri": "https://localhost:8080/"
        },
        "outputId": "17033694-8a11-4421-f82e-b8bd2047e4be"
      },
      "execution_count": null,
      "outputs": [
        {
          "output_type": "stream",
          "name": "stdout",
          "text": [
            "14/14 [==============================] - 0s 1ms/step\n"
          ]
        }
      ]
    },
    {
      "cell_type": "code",
      "source": [
        "accuracy = accuracy_score(y_test_encoded, y_pred_classes)\n",
        "print(f'Accuracy: {accuracy*100:.2f}%')"
      ],
      "metadata": {
        "id": "yu5TlmS98E-T",
        "colab": {
          "base_uri": "https://localhost:8080/"
        },
        "outputId": "68c395e7-e36a-45c9-be06-df6533767c26"
      },
      "execution_count": null,
      "outputs": [
        {
          "output_type": "stream",
          "name": "stdout",
          "text": [
            "Accuracy: 89.09%\n"
          ]
        }
      ]
    },
    {
      "cell_type": "code",
      "source": [
        "y_pred"
      ],
      "metadata": {
        "id": "NADJmQQN6VkP",
        "colab": {
          "base_uri": "https://localhost:8080/"
        },
        "outputId": "8e180bf4-e9cb-4cf6-c4d6-35cc5ff45d42"
      },
      "execution_count": null,
      "outputs": [
        {
          "output_type": "execute_result",
          "data": {
            "text/plain": [
              "array([[2.7399818e-19, 2.1829907e-09, 3.3460572e-07, ..., 5.4756790e-09,\n",
              "        8.0777121e-12, 3.6630780e-02],\n",
              "       [1.1934822e-15, 5.7359603e-07, 8.1908438e-06, ..., 8.7777971e-07,\n",
              "        1.0450782e-07, 9.0868801e-01],\n",
              "       [7.2534910e-08, 5.5909751e-04, 1.2352440e-03, ..., 9.5690863e-04,\n",
              "        2.6242958e-08, 1.0823529e-06],\n",
              "       ...,\n",
              "       [2.9180694e-23, 1.2240722e-06, 1.7181438e-07, ..., 1.4626706e-15,\n",
              "        3.5132050e-11, 8.3775824e-04],\n",
              "       [2.3102379e-20, 2.4233213e-05, 2.1653689e-06, ..., 5.9546748e-14,\n",
              "        3.3895214e-10, 5.4139650e-04],\n",
              "       [5.3647044e-04, 2.7484971e-03, 2.4812030e-05, ..., 2.3793380e-08,\n",
              "        3.4728003e-09, 3.4460882e-14]], dtype=float32)"
            ]
          },
          "metadata": {},
          "execution_count": 22
        }
      ]
    },
    {
      "cell_type": "code",
      "source": [
        "import numpy as np\n",
        "\n",
        "# Assuming y_pred is your array\n",
        "predicted_classes = np.argmax(y_pred, axis=1)\n",
        "\n",
        "# If you have used LabelEncoder during preprocessing\n",
        "predicted_crop_names = label_encoder.inverse_transform(predicted_classes)\n"
      ],
      "metadata": {
        "id": "HBURip4HqCqH"
      },
      "execution_count": null,
      "outputs": []
    },
    {
      "cell_type": "code",
      "source": [
        "print(predicted_crop_names)"
      ],
      "metadata": {
        "id": "FE0GOUDIqLKI",
        "colab": {
          "base_uri": "https://localhost:8080/"
        },
        "outputId": "56adfe27-d495-4eef-bed3-0cbc6fb7bd95"
      },
      "execution_count": null,
      "outputs": [
        {
          "output_type": "stream",
          "name": "stdout",
          "text": [
            "['muskmelon' 'watermelon' 'papaya' 'papaya' 'apple' 'mango' 'apple'\n",
            " 'mothbeans' 'mungbean' 'lentil' 'blackgram' 'coconut' 'pomegranate'\n",
            " 'jute' 'coconut' 'pomegranate' 'apple' 'cotton' 'papaya' 'muskmelon'\n",
            " 'coffee' 'papaya' 'orange' 'papaya' 'chickpea' 'jute' 'mungbean' 'orange'\n",
            " 'pigeonpeas' 'rice' 'pomegranate' 'mothbeans' 'rice' 'lentil' 'jute'\n",
            " 'blackgram' 'jute' 'chickpea' 'chickpea' 'kidneybeans' 'papaya' 'mango'\n",
            " 'lentil' 'maize' 'mungbean' 'maize' 'pigeonpeas' 'coconut' 'muskmelon'\n",
            " 'maize' 'blackgram' 'coffee' 'grapes' 'mungbean' 'coffee' 'kidneybeans'\n",
            " 'cotton' 'apple' 'banana' 'lentil' 'watermelon' 'coconut' 'mothbeans'\n",
            " 'orange' 'mungbean' 'mango' 'orange' 'rice' 'muskmelon' 'pigeonpeas'\n",
            " 'muskmelon' 'coconut' 'jute' 'banana' 'blackgram' 'papaya' 'banana'\n",
            " 'cotton' 'watermelon' 'orange' 'jute' 'chickpea' 'jute' 'mothbeans'\n",
            " 'orange' 'mango' 'coffee' 'mothbeans' 'blackgram' 'pomegranate' 'maize'\n",
            " 'mothbeans' 'cotton' 'papaya' 'pigeonpeas' 'blackgram' 'kidneybeans'\n",
            " 'coffee' 'lentil' 'lentil' 'coconut' 'jute' 'orange' 'muskmelon'\n",
            " 'watermelon' 'kidneybeans' 'watermelon' 'banana' 'pigeonpeas' 'lentil'\n",
            " 'banana' 'jute' 'cotton' 'pomegranate' 'pigeonpeas' 'kidneybeans'\n",
            " 'banana' 'coconut' 'pomegranate' 'rice' 'pigeonpeas' 'grapes' 'blackgram'\n",
            " 'pomegranate' 'chickpea' 'lentil' 'coconut' 'maize' 'banana' 'mothbeans'\n",
            " 'banana' 'kidneybeans' 'pomegranate' 'chickpea' 'coconut' 'orange'\n",
            " 'papaya' 'banana' 'banana' 'apple' 'kidneybeans' 'muskmelon' 'mungbean'\n",
            " 'blackgram' 'coconut' 'maize' 'apple' 'coconut' 'kidneybeans' 'mango'\n",
            " 'mungbean' 'lentil' 'watermelon' 'mungbean' 'papaya' 'pigeonpeas'\n",
            " 'pigeonpeas' 'kidneybeans' 'maize' 'jute' 'chickpea' 'apple' 'orange'\n",
            " 'cotton' 'jute' 'coconut' 'grapes' 'lentil' 'watermelon' 'grapes'\n",
            " 'grapes' 'blackgram' 'pomegranate' 'chickpea' 'coconut' 'maize' 'lentil'\n",
            " 'grapes' 'watermelon' 'jute' 'coffee' 'coffee' 'kidneybeans' 'jute'\n",
            " 'mothbeans' 'kidneybeans' 'banana' 'kidneybeans' 'coconut' 'papaya'\n",
            " 'papaya' 'mungbean' 'mango' 'pomegranate' 'watermelon' 'kidneybeans'\n",
            " 'maize' 'apple' 'blackgram' 'chickpea' 'grapes' 'grapes' 'banana'\n",
            " 'cotton' 'rice' 'pomegranate' 'mungbean' 'banana' 'jute' 'mungbean'\n",
            " 'maize' 'chickpea' 'chickpea' 'chickpea' 'apple' 'rice' 'kidneybeans'\n",
            " 'papaya' 'coffee' 'blackgram' 'kidneybeans' 'mango' 'mango' 'coconut'\n",
            " 'papaya' 'apple' 'chickpea' 'pomegranate' 'chickpea' 'muskmelon' 'apple'\n",
            " 'muskmelon' 'muskmelon' 'mango' 'mango' 'cotton' 'coconut' 'pomegranate'\n",
            " 'rice' 'muskmelon' 'coffee' 'papaya' 'lentil' 'maize' 'mango' 'muskmelon'\n",
            " 'blackgram' 'mungbean' 'coffee' 'grapes' 'coconut' 'cotton' 'pigeonpeas'\n",
            " 'rice' 'apple' 'pomegranate' 'coffee' 'chickpea' 'cotton' 'jute' 'mango'\n",
            " 'banana' 'papaya' 'apple' 'chickpea' 'rice' 'pigeonpeas' 'mothbeans'\n",
            " 'mungbean' 'jute' 'pomegranate' 'grapes' 'mothbeans' 'papaya' 'cotton'\n",
            " 'coconut' 'cotton' 'chickpea' 'banana' 'coffee' 'coconut' 'coffee'\n",
            " 'blackgram' 'muskmelon' 'apple' 'banana' 'pigeonpeas' 'blackgram'\n",
            " 'orange' 'chickpea' 'watermelon' 'maize' 'apple' 'chickpea' 'coffee'\n",
            " 'papaya' 'orange' 'apple' 'coconut' 'papaya' 'watermelon' 'mothbeans'\n",
            " 'rice' 'chickpea' 'pomegranate' 'chickpea' 'mungbean' 'lentil' 'apple'\n",
            " 'pomegranate' 'chickpea' 'mango' 'chickpea' 'pomegranate' 'watermelon'\n",
            " 'kidneybeans' 'mungbean' 'muskmelon' 'watermelon' 'kidneybeans'\n",
            " 'muskmelon' 'mango' 'jute' 'blackgram' 'chickpea' 'banana' 'lentil'\n",
            " 'pigeonpeas' 'papaya' 'kidneybeans' 'mungbean' 'coconut' 'cotton'\n",
            " 'grapes' 'apple' 'lentil' 'banana' 'jute' 'apple' 'pomegranate' 'apple'\n",
            " 'mungbean' 'muskmelon' 'coffee' 'coffee' 'pigeonpeas' 'jute'\n",
            " 'kidneybeans' 'banana' 'maize' 'jute' 'cotton' 'pigeonpeas' 'mango'\n",
            " 'kidneybeans' 'pomegranate' 'watermelon' 'blackgram' 'maize' 'rice'\n",
            " 'mungbean' 'kidneybeans' 'mango' 'cotton' 'papaya' 'mothbeans' 'cotton'\n",
            " 'mungbean' 'orange' 'rice' 'blackgram' 'mungbean' 'coffee' 'banana'\n",
            " 'pigeonpeas' 'papaya' 'apple' 'orange' 'maize' 'mango' 'coconut' 'apple'\n",
            " 'lentil' 'jute' 'mungbean' 'lentil' 'coconut' 'blackgram' 'jute'\n",
            " 'mungbean' 'cotton' 'muskmelon' 'apple' 'grapes' 'coconut' 'grapes'\n",
            " 'watermelon' 'rice' 'mango' 'mango' 'coffee' 'pomegranate' 'banana'\n",
            " 'grapes' 'jute' 'orange' 'cotton' 'mango' 'papaya' 'muskmelon' 'lentil'\n",
            " 'jute' 'chickpea' 'mothbeans' 'pomegranate' 'watermelon' 'blackgram'\n",
            " 'cotton' 'papaya' 'watermelon' 'lentil' 'rice' 'coconut' 'lentil'\n",
            " 'mothbeans' 'maize' 'rice' 'maize' 'coconut' 'orange' 'orange'\n",
            " 'kidneybeans' 'watermelon' 'mungbean' 'blackgram' 'rice' 'rice' 'cotton'\n",
            " 'cotton' 'pigeonpeas']\n"
          ]
        }
      ]
    },
    {
      "cell_type": "code",
      "source": [
        "# input_parameters = {\n",
        "#     'Sowing Time': 'june',\n",
        "#     'Region': 'andhra pradesh',\n",
        "#     'Soil Type': 'black cotton soil',\n",
        "#     'Min Temp': 20,\n",
        "#     'Max Temp': 30,\n",
        "#     'Soil pH': 6.5,\n",
        "#     'Min Rainfall': 25,\n",
        "#     'Max Rainfall': 60\n",
        "# }\n",
        "\n",
        "# input_df = pd.DataFrame([input_parameters])\n",
        "# input_df_aligned = pd.get_dummies(input_df, columns=categorical_columns)\n",
        "# input_df_aligned = input_df_aligned.reindex(columns=X.columns, fill_value=0)\n",
        "# input_scaled = scaler.transform(input_df_aligned.values)\n",
        "# predicted_crop_index = model.predict(input_scaled).argmax(axis=-1)\n",
        "# predicted_crop = label_encoder.inverse_transform(predicted_crop_index)[0]\n",
        "\n",
        "# print(\"Predicted Crop:\", predicted_crop)"
      ],
      "metadata": {
        "id": "n22qXtw88qaY"
      },
      "execution_count": null,
      "outputs": []
    },
    {
      "cell_type": "code",
      "source": [
        "import pandas as pd\n",
        "\n",
        "# Assuming you have already defined your input parameters dictionary and trained scaler object\n",
        "\n",
        "input_parameters = {\n",
        "    'N': 85,\n",
        "    'P': 85,\n",
        "    'K': 85,\n",
        "    'temperature': 30,\n",
        "    'humidity': 85,\n",
        "    'ph': 6.5,\n",
        "    'rainfall': 200,\n",
        "}\n",
        "\n",
        "# Convert the input parameters dictionary to a DataFrame\n",
        "input_df = pd.DataFrame([input_parameters])\n",
        "\n",
        "# Scale the numeric columns using the scaler object\n",
        "input_scaled = scaler.transform(input_df)\n",
        "\n",
        "# Make predictions using your model\n",
        "predicted_crop_index = model.predict(input_scaled).argmax(axis=-1)\n",
        "predicted_crop = label_encoder.inverse_transform(predicted_crop_index)[0]\n",
        "\n",
        "print(\"Predicted Crop:\", predicted_crop)\n"
      ],
      "metadata": {
        "id": "kj0-iZ9ZmDRl",
        "colab": {
          "base_uri": "https://localhost:8080/"
        },
        "outputId": "677f119e-97e4-4d4b-8894-c87817fa2e7a"
      },
      "execution_count": null,
      "outputs": [
        {
          "output_type": "stream",
          "name": "stdout",
          "text": [
            "1/1 [==============================] - 0s 20ms/step\n",
            "Predicted Crop: pigeonpeas\n"
          ]
        }
      ]
    },
    {
      "cell_type": "code",
      "source": [
        "from sklearn.metrics import confusion_matrix\n",
        "import seaborn as sns\n",
        "import matplotlib.pyplot as plt\n",
        "\n",
        "# Assuming y_test_encoded and y_pred_classes are already defined in your code\n",
        "conf_matrix = confusion_matrix(y_test_encoded, y_pred_classes)\n",
        "\n",
        "# Plot the confusion matrix\n",
        "plt.figure(figsize=(10, 8))\n",
        "sns.heatmap(conf_matrix, annot=True, fmt='d', cmap='Blues', xticklabels=label_encoder.classes_, yticklabels=label_encoder.classes_)\n",
        "plt.title('Confusion Matrix')\n",
        "plt.xlabel('Predicted')\n",
        "plt.ylabel('Actual')\n",
        "plt.show()\n"
      ],
      "metadata": {
        "id": "a435sDziU5Rm",
        "colab": {
          "base_uri": "https://localhost:8080/",
          "height": 798
        },
        "outputId": "c8e93f2e-e513-4769-99a6-9ccb3351f13c"
      },
      "execution_count": null,
      "outputs": [
        {
          "output_type": "display_data",
          "data": {
            "text/plain": [
              "<Figure size 1000x800 with 2 Axes>"
            ],
            "image/png": "[encoded data removed]"
          },
          "metadata": {}
        }
      ]
    },
    {
      "cell_type": "code",
      "source": [
        "import numpy as np\n",
        "import pandas as pd\n",
        "from sklearn.metrics import accuracy_score, f1_score, precision_score, recall_score, confusion_matrix\n",
        "\n",
        "\n",
        "# Calculate accuracy\n",
        "accuracy = accuracy_score(y_test, predicted_crop_names)\n",
        "print(\"Accuracy:\", accuracy * 100)\n",
        "\n",
        "# Calculate F1 score, precision, recall (for multiclass)\n",
        "f1score = f1_score(y_test, predicted_crop_names, average='weighted')\n",
        "precision = precision_score(y_test, predicted_crop_names, average='weighted')\n",
        "recall = recall_score(y_test, predicted_crop_names, average='weighted')\n",
        "\n",
        "# Create a DataFrame to display metrics in a table\n",
        "metrics_table = pd.DataFrame({\n",
        "    'Metric': ['Accuracy', 'F1 Score', 'Precision', 'Recall'],\n",
        "    'Score': [accuracy, f1score, precision, recall]\n",
        "})\n",
        "\n",
        "print(\"ANN Algorithm:\")\n",
        "print(metrics_table)"
      ],
      "metadata": {
        "colab": {
          "base_uri": "https://localhost:8080/"
        },
        "id": "OOdTXIBHyMSE",
        "outputId": "121675b2-b411-464c-e2d7-d9e2e92df9c2"
      },
      "execution_count": null,
      "outputs": [
        {
          "output_type": "stream",
          "name": "stdout",
          "text": [
            "Accuracy: 89.0909090909091\n",
            "ANN Algorithm:\n",
            "      Metric     Score\n",
            "0   Accuracy  0.890909\n",
            "1   F1 Score  0.890329\n",
            "2  Precision  0.903825\n",
            "3     Recall  0.890909\n"
          ]
        }
      ]
    },
    {
      "cell_type": "code",
      "source": [
        "# Accuracy: 87.95454545454545\n",
        "# PART Algorithm:\n",
        "#       Metric     Score\n",
        "# 0   Accuracy  0.879545\n",
        "# 1   F1 Score  0.878995\n",
        "# 2  Precision  0.888469\n",
        "# 3     Recall  0.879545"
      ],
      "metadata": {
        "id": "JQ0YxzzJXXY3"
      },
      "execution_count": null,
      "outputs": []
    },
    {
      "cell_type": "code",
      "source": [
        "import pickle\n",
        "\n",
        "# Save the model to a pickle file\n",
        "with open('ANN_model.pkl', 'wb') as file:\n",
        "    pickle.dump(model, file)\n",
        "\n",
        "print(\"Model saved to 'ANN_model.pkl'\")\n"
      ],
      "metadata": {
        "colab": {
          "base_uri": "https://localhost:8080/"
        },
        "id": "OqSWD3oGeNGu",
        "outputId": "936c05f4-85da-41ed-caf5-cb143d315e17"
      },
      "execution_count": null,
      "outputs": [
        {
          "output_type": "stream",
          "name": "stdout",
          "text": [
            "Model saved to 'ANN_model.pkl'\n"
          ]
        }
      ]
    },
    {
      "cell_type": "code",
      "source": [
        "# Load the model from the pickle file\n",
        "with open('/content/ANN_model.pkl', 'rb') as file:\n",
        "  loaded_model = pickle.load(file)\n",
        "\n",
        "print(\"Model loaded from '/content/Crop_recommendation.csv'\")\n",
        "\n",
        "# Use the loaded model to make predictions\n",
        "predictions = loaded_model.predict(X_test)\n",
        "print(\"Predictions:\", predictions)\n"
      ],
      "metadata": {
        "colab": {
          "base_uri": "https://localhost:8080/"
        },
        "id": "nhnQi4WLyIu6",
        "outputId": "1630512e-9194-47f8-828c-6a95767a43b4"
      },
      "execution_count": null,
      "outputs": [
        {
          "output_type": "stream",
          "name": "stdout",
          "text": [
            "Model loaded from '/content/Crop_recommendation.csv'\n",
            "14/14 [==============================] - 0s 2ms/step\n",
            "Predictions: [[0.         0.         0.         ... 0.         0.99999994 0.        ]\n",
            " [0.         0.         0.         ... 0.         0.99999994 0.        ]\n",
            " [0.         0.         0.         ... 0.         0.99999994 0.        ]\n",
            " ...\n",
            " [0.         0.         0.         ... 0.         0.         0.        ]\n",
            " [0.         0.         0.         ... 0.         0.         0.        ]\n",
            " [0.         0.         0.         ... 0.         0.99999994 0.        ]]\n"
          ]
        }
      ]
    },
    {
      "cell_type": "code",
      "source": [
        "# Load the model from the pickle file\n",
        "with open('/content/ANN_model.pkl', 'rb') as file:\n",
        "  loaded_model = pickle.load(file)\n",
        "\n",
        "print(\"Model loaded from '/content/Crop_recommendation.csv'\")\n",
        "N = input(\"Enter the value of N: \")\n",
        "P = input(\"Enter the value of P: \")\n",
        "K = input(\"Enter the value of K: \")\n",
        "temperature = input(\"Enter the value of temperature: \")\n",
        "humidity = input(\"Enter the value of humidity: \")\n",
        "ph = input(\"Enter the value of ph: \")\n",
        "rainfall = input(\"Enter the value of rainfall: \")\n",
        "\n",
        "\n",
        "data = {\n",
        "    'N': [float(N)],\n",
        "    'P': [float(P)],\n",
        "    'K': [float(K)],\n",
        "    'temperature': [float(temperature)],\n",
        "    'humidity': [float(humidity)],\n",
        "    'ph': [float(ph)],\n",
        "    'rainfall': [float(rainfall)],\n",
        "}\n",
        "df = pd.DataFrame(data)\n",
        "\n",
        "# Scale the numeric columns using the scaler object\n",
        "input_scaled = scaler.transform(df)\n",
        "\n",
        "# Make predictions using your model\n",
        "predicted_crop_index = model.predict(input_scaled).argmax(axis=-1)\n",
        "predicted_crop = label_encoder.inverse_transform(predicted_crop_index)[0]\n",
        "\n",
        "print(\"Predicted Crop:\", predicted_crop)\n"
      ],
      "metadata": {
        "colab": {
          "base_uri": "https://localhost:8080/"
        },
        "id": "AukMfTjpjggu",
        "outputId": "baf70c57-34b4-4550-99f2-5b0cd7b2109d"
      },
      "execution_count": null,
      "outputs": [
        {
          "output_type": "stream",
          "name": "stdout",
          "text": [
            "Model loaded from '/content/Crop_recommendation.csv'\n",
            "Enter the value of N: 101\n",
            "Enter the value of P: 17\n",
            "Enter the value of K: 47\n",
            "Enter the value of temperature: 29.494014\n",
            "Enter the value of humidity: 94.729813\n",
            "Enter the value of ph: 6.185053\n",
            "Enter the value of rainfall: 26.308209\n",
            "1/1 [==============================] - 0s 21ms/step\n",
            "Predicted Crop: muskmelon\n"
          ]
        }
      ]
    }
  ]
}